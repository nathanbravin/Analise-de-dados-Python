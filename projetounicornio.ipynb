{
 "cells": [
  {
   "cell_type": "code",
   "execution_count": 180,
   "metadata": {},
   "outputs": [],
   "source": [
    "import numpy as np\n",
    "import pandas as pd\n",
    "import matplotlib.pyplot as plt\n",
    "import seaborn as sns\n",
    "\n",
    "import warnings #ignora avisos\n",
    "warnings.filterwarnings('ignore')"
   ]
  },
  {
   "cell_type": "code",
   "execution_count": null,
   "metadata": {},
   "outputs": [],
   "source": [
    "#Ler dados (importar planilha)\n",
    "Base_Dados = pd.read_csv ('unicorns till sep 2022.csv')\n",
    "\n",
    "#Verificar Dimensao (num registros, num colunas)\n",
    "Base_Dados.shape\n",
    "\n"
   ]
  },
  {
   "cell_type": "code",
   "execution_count": null,
   "metadata": {},
   "outputs": [],
   "source": [
    "#Primeiros 5 registros\n",
    "Base_Dados.head()"
   ]
  },
  {
   "cell_type": "code",
   "execution_count": null,
   "metadata": {},
   "outputs": [],
   "source": [
    "#Colunas\n",
    "Base_Dados.columns"
   ]
  },
  {
   "cell_type": "code",
   "execution_count": 184,
   "metadata": {},
   "outputs": [],
   "source": [
    "#Renomear colunas\n",
    "\n",
    "Base_Dados.rename(\n",
    "    columns={\n",
    "        'Company': 'Empresa',\n",
    "        'Valuation ($B)' : 'Valor (Bilhao R$)',\n",
    "        'Date Joined' : 'Data de Adesao',\n",
    "        'Country' : 'País',\n",
    "        'City ': 'Cidade',\n",
    "        'Industry' : 'Setor',\n",
    "        'Investors' : 'Investidores',\n",
    "    }, inplace = True)"
   ]
  },
  {
   "cell_type": "code",
   "execution_count": null,
   "metadata": {},
   "outputs": [],
   "source": [
    "# Verificar o tipo da informaçao\n",
    "Base_Dados.info()"
   ]
  },
  {
   "cell_type": "code",
   "execution_count": null,
   "metadata": {},
   "outputs": [],
   "source": [
    "#Verificar quantos campos nulos por coluna\n",
    "Base_Dados.isnull().sum()"
   ]
  },
  {
   "cell_type": "code",
   "execution_count": null,
   "metadata": {},
   "outputs": [],
   "source": [
    "#Visao grafica campos nulos por coluna\n",
    "plt.figure(figsize=(15,6))\n",
    "plt.title('Campos Nulos')\n",
    "sns.barplot(Base_Dados.isnull());"
   ]
  },
  {
   "cell_type": "code",
   "execution_count": null,
   "metadata": {},
   "outputs": [],
   "source": [
    "# Visualizar campos unicos\n",
    "\n",
    "Base_Dados.nunique()"
   ]
  },
  {
   "cell_type": "code",
   "execution_count": null,
   "metadata": {},
   "outputs": [],
   "source": [
    "#Visualizar valor unico por coluna\n",
    "\n",
    "Base_Dados['Setor'].unique()"
   ]
  },
  {
   "cell_type": "code",
   "execution_count": null,
   "metadata": {},
   "outputs": [],
   "source": [
    "#Visualizar valores unicos - Rank (contar quantas vezes aparece uma palavra na coluna)\n",
    "Base_Dados['Setor'].value_counts()\n",
    "\n",
    "#Em percentual\n",
    "Base_Dados['Setor'].value_counts(normalize=True)"
   ]
  },
  {
   "cell_type": "code",
   "execution_count": null,
   "metadata": {},
   "outputs": [],
   "source": [
    "#Visualizar graficamente\n",
    "plt.figure(figsize=(15,6))\n",
    "plt.title('Analise de Setores')\n",
    "plt.bar(Base_Dados['Setor'].value_counts().index, Base_Dados['Setor'].value_counts() )\n",
    "#acertar a legenda abaixo do grafico\n",
    "plt.xticks(rotation=45, ha='right');"
   ]
  },
  {
   "cell_type": "code",
   "execution_count": null,
   "metadata": {},
   "outputs": [],
   "source": [
    "Analise = round(Base_Dados['País'].value_counts(normalize=True) *100,1)\n",
    "Analise"
   ]
  },
  {
   "cell_type": "code",
   "execution_count": null,
   "metadata": {},
   "outputs": [],
   "source": [
    "# plotar top 10 paises\n",
    "plt.figure( figsize=(15,6) )\n",
    "plt.title('Analise dos Paises gerador de Unicornios - Top 10')\n",
    "plt.pie(\n",
    "    Analise.head(10),\n",
    "    labels = Analise.index[0:10],\n",
    "    shadow=True,\n",
    "    startangle=90,\n",
    "    autopct='%1.1f%%'\n",
    ");\n"
   ]
  },
  {
   "cell_type": "code",
   "execution_count": null,
   "metadata": {},
   "outputs": [],
   "source": [
    "#Converter para data, pois esta em objeto\n",
    "Base_Dados['Data de Adesao'] = pd.to_datetime(Base_Dados['Data de Adesao'])\n",
    "Base_Dados['Data de Adesao'].head()"
   ]
  },
  {
   "cell_type": "code",
   "execution_count": null,
   "metadata": {},
   "outputs": [],
   "source": [
    "#Extrair o ano e mes\n",
    "\n",
    "Base_Dados['Mes'] = pd.DatetimeIndex( Base_Dados['Data de Adesao'] ).month\n",
    "Base_Dados['Ano'] = pd.DatetimeIndex( Base_Dados['Data de Adesao'] ).year\n",
    "\n",
    "Base_Dados.head()"
   ]
  },
  {
   "cell_type": "code",
   "execution_count": null,
   "metadata": {},
   "outputs": [],
   "source": [
    "#Criar tabela analitica\n",
    "\n",
    "Analitico = Base_Dados.groupby(by=['Empresa', 'País', 'Ano', 'Mes']).count().reset_index()\n",
    "Analitico"
   ]
  },
  {
   "cell_type": "code",
   "execution_count": null,
   "metadata": {},
   "outputs": [],
   "source": [
    "#Achar brasil na tabela analitica\n",
    "\n",
    "Analitico.loc[\n",
    "    Analitico['País'] == 'Brazil'\n",
    "]"
   ]
  },
  {
   "cell_type": "code",
   "execution_count": null,
   "metadata": {},
   "outputs": [],
   "source": [
    "#Transformando a coluna Valor para numeric\n",
    "\n",
    "Base_Dados['Valor (Bilhao R$)'] = pd.to_numeric (Base_Dados['Valor (Bilhao R$)'].apply(lambda Linha: Linha.replace('$','')))\n",
    "\n",
    "Base_Dados.head()"
   ]
  },
  {
   "cell_type": "code",
   "execution_count": null,
   "metadata": {},
   "outputs": [],
   "source": [
    "#tabela analitica pais e seus valores (valuation)\n",
    "Analise_Pais = Base_Dados.groupby( by=['País'] ).sum(numeric_only=True)['Valor (Bilhao R$)'].reset_index()\n",
    "Analise_Pais"
   ]
  },
  {
   "cell_type": "code",
   "execution_count": null,
   "metadata": {},
   "outputs": [],
   "source": [
    "#Tabela analitica de valuation\n",
    "\n",
    "Analise_Valor = Analise_Pais.sort_values('Valor (Bilhao R$)', ascending=False)\n",
    "Analise_Valor"
   ]
  },
  {
   "cell_type": "code",
   "execution_count": null,
   "metadata": {},
   "outputs": [],
   "source": [
    "# gerar grafico do analito anterior\n",
    "plt.figure(figsize=(15,6))\n",
    "plt.plot(Analise_Valor['País'],Analise_Valor['Valor (Bilhao R$)'])\n",
    "plt.xticks(rotation=45, ha='right');"
   ]
  }
 ],
 "metadata": {
  "kernelspec": {
   "display_name": "Python 3",
   "language": "python",
   "name": "python3"
  },
  "language_info": {
   "codemirror_mode": {
    "name": "ipython",
    "version": 3
   },
   "file_extension": ".py",
   "mimetype": "text/x-python",
   "name": "python",
   "nbconvert_exporter": "python",
   "pygments_lexer": "ipython3",
   "version": "3.12.3"
  }
 },
 "nbformat": 4,
 "nbformat_minor": 2
}
